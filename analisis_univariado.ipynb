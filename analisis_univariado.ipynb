{
 "cells": [
  {
   "cell_type": "markdown",
   "metadata": {},
   "source": [
    "**Autores:**\n",
    "- Carolina Naranjo.\n",
    "- Daniel Guzman.\n",
    "- Johana Castillo.\n",
    "- Juan Martin Pastuso Borda."
   ]
  },
  {
   "cell_type": "markdown",
   "metadata": {},
   "source": [
    "### Actividad: Análisis Univariado de una Variable en un Conjunto de Datos\n",
    "\n",
    "**Pregunta SMART**\n",
    "- ¿Cómo podemos identificar y clasificar a clientes del mercado regulado con anomalías en el consumo de energía, utilizando datos históricos de consumo y características socioeconómicas, con el fin de reducir las pérdidas y facilitar un monitoreo continuo en el tiempo?\n"
   ]
  },
  {
   "cell_type": "code",
   "execution_count": 2,
   "metadata": {},
   "outputs": [],
   "source": [
    "import pandas as pd\n",
    "import numpy as np\n",
    "import matplotlib.pyplot as plt\n",
    "import seaborn as sns\n",
    "import matplotlib.ticker as mtick  ## función para formatear en visualizaciones\n",
    "from scipy.stats import skew, kurtosis # estadisticas para coef asimetria, coef kurtosis"
   ]
  },
  {
   "cell_type": "markdown",
   "metadata": {},
   "source": [
    "Base de datos del mercado regulado del sector energetico:"
   ]
  },
  {
   "cell_type": "code",
   "execution_count": null,
   "metadata": {},
   "outputs": [
    {
     "data": {
      "text/html": [
       "<div>\n",
       "<style scoped>\n",
       "    .dataframe tbody tr th:only-of-type {\n",
       "        vertical-align: middle;\n",
       "    }\n",
       "\n",
       "    .dataframe tbody tr th {\n",
       "        vertical-align: top;\n",
       "    }\n",
       "\n",
       "    .dataframe thead th {\n",
       "        text-align: right;\n",
       "    }\n",
       "</style>\n",
       "<table border=\"1\" class=\"dataframe\">\n",
       "  <thead>\n",
       "    <tr style=\"text-align: right;\">\n",
       "      <th></th>\n",
       "      <th>NIU</th>\n",
       "      <th>PERIODO</th>\n",
       "      <th>DIAS_FACT</th>\n",
       "      <th>TIPO_LECTURA</th>\n",
       "      <th>CONSUMO_USUARIO_KWH2</th>\n",
       "      <th>TIPO_MEDIDOR</th>\n",
       "      <th>NIVELTENSION</th>\n",
       "      <th>ESTRATO</th>\n",
       "    </tr>\n",
       "  </thead>\n",
       "  <tbody>\n",
       "    <tr>\n",
       "      <th>0</th>\n",
       "      <td>100</td>\n",
       "      <td>2021-01</td>\n",
       "      <td>31.0</td>\n",
       "      <td>Real</td>\n",
       "      <td>239.0</td>\n",
       "      <td>Electromecánico</td>\n",
       "      <td>Nivel 1</td>\n",
       "      <td>Bajo-bajo</td>\n",
       "    </tr>\n",
       "    <tr>\n",
       "      <th>1</th>\n",
       "      <td>100</td>\n",
       "      <td>2021-02</td>\n",
       "      <td>32.0</td>\n",
       "      <td>Real</td>\n",
       "      <td>238.0</td>\n",
       "      <td>Electromecánico</td>\n",
       "      <td>Nivel 1</td>\n",
       "      <td>Bajo-bajo</td>\n",
       "    </tr>\n",
       "    <tr>\n",
       "      <th>2</th>\n",
       "      <td>100</td>\n",
       "      <td>2021-03</td>\n",
       "      <td>30.0</td>\n",
       "      <td>Real</td>\n",
       "      <td>272.0</td>\n",
       "      <td>Electromecánico</td>\n",
       "      <td>Nivel 1</td>\n",
       "      <td>Bajo-bajo</td>\n",
       "    </tr>\n",
       "    <tr>\n",
       "      <th>3</th>\n",
       "      <td>100</td>\n",
       "      <td>2021-04</td>\n",
       "      <td>29.0</td>\n",
       "      <td>Real</td>\n",
       "      <td>292.0</td>\n",
       "      <td>Electromecánico</td>\n",
       "      <td>Nivel 1</td>\n",
       "      <td>Bajo-bajo</td>\n",
       "    </tr>\n",
       "    <tr>\n",
       "      <th>4</th>\n",
       "      <td>100</td>\n",
       "      <td>2021-05</td>\n",
       "      <td>31.0</td>\n",
       "      <td>Real</td>\n",
       "      <td>304.0</td>\n",
       "      <td>Electromecánico</td>\n",
       "      <td>Nivel 1</td>\n",
       "      <td>Bajo-bajo</td>\n",
       "    </tr>\n",
       "  </tbody>\n",
       "</table>\n",
       "</div>"
      ],
      "text/plain": [
       "   NIU  PERIODO  DIAS_FACT TIPO_LECTURA  CONSUMO_USUARIO_KWH2  \\\n",
       "0  100  2021-01       31.0         Real                 239.0   \n",
       "1  100  2021-02       32.0         Real                 238.0   \n",
       "2  100  2021-03       30.0         Real                 272.0   \n",
       "3  100  2021-04       29.0         Real                 292.0   \n",
       "4  100  2021-05       31.0         Real                 304.0   \n",
       "\n",
       "      TIPO_MEDIDOR NIVELTENSION    ESTRATO  \n",
       "0  Electromecánico      Nivel 1  Bajo-bajo  \n",
       "1  Electromecánico      Nivel 1  Bajo-bajo  \n",
       "2  Electromecánico      Nivel 1  Bajo-bajo  \n",
       "3  Electromecánico      Nivel 1  Bajo-bajo  \n",
       "4  Electromecánico      Nivel 1  Bajo-bajo  "
      ]
     },
     "execution_count": 3,
     "metadata": {},
     "output_type": "execute_result"
    }
   ],
   "source": [
    "\n",
    "df = pd.read_csv('Regulados_historico.csv')\n",
    "df.drop(columns=['Unnamed: 0', 'CON_CONSUMO', 'CONSUMO_RECUPERADO_KWH'], inplace=True, )\n",
    "df.head()"
   ]
  },
  {
   "cell_type": "code",
   "execution_count": 21,
   "metadata": {},
   "outputs": [
    {
     "name": "stdout",
     "output_type": "stream",
     "text": [
      "<class 'pandas.core.frame.DataFrame'>\n",
      "RangeIndex: 33234494 entries, 0 to 33234493\n",
      "Data columns (total 8 columns):\n",
      " #   Column                Dtype  \n",
      "---  ------                -----  \n",
      " 0   NIU                   int64  \n",
      " 1   PERIODO               object \n",
      " 2   DIAS_FACT             float64\n",
      " 3   TIPO_LECTURA          object \n",
      " 4   CONSUMO_USUARIO_KWH2  float64\n",
      " 5   TIPO_MEDIDOR          object \n",
      " 6   NIVELTENSION          object \n",
      " 7   ESTRATO               object \n",
      "dtypes: float64(2), int64(1), object(5)\n",
      "memory usage: 2.0+ GB\n"
     ]
    }
   ],
   "source": [
    "df.info()"
   ]
  },
  {
   "cell_type": "code",
   "execution_count": 45,
   "metadata": {},
   "outputs": [
    {
     "data": {
      "text/plain": [
       "NIU                       0\n",
       "PERIODO                   0\n",
       "DIAS_FACT                 0\n",
       "TIPO_LECTURA              0\n",
       "CONSUMO_USUARIO_KWH2      0\n",
       "TIPO_MEDIDOR              0\n",
       "NIVELTENSION            330\n",
       "ESTRATO                 330\n",
       "dtype: int64"
      ]
     },
     "execution_count": 45,
     "metadata": {},
     "output_type": "execute_result"
    }
   ],
   "source": [
    "df.isnull().sum()"
   ]
  },
  {
   "cell_type": "markdown",
   "metadata": {},
   "source": [
    "Funciones para obtener un análisis estadístico mas completo:"
   ]
  },
  {
   "cell_type": "code",
   "execution_count": 4,
   "metadata": {},
   "outputs": [],
   "source": [
    "def tabla_descriptivas(columnas):\n",
    "    tabla_descriptivas=pd.DataFrame(columnas.describe())\n",
    "    tabla_descriptivas.loc['coef. variation']=columnas.std()/columnas.mean() # Coeficiente variación\n",
    "    tabla_descriptivas.loc['skew']=skew(columnas) # coeficiente de asimetria\n",
    "    tabla_descriptivas.loc['kurtosis']=kurtosis(columnas) # coeficiente de curtosis.\n",
    "    return tabla_descriptivas\n",
    "\n",
    "## Función para construir tablas de frecuencias\n",
    "def tabla_freq(columna):\n",
    "    x=pd.crosstab(index=columna,columns=\"count\").reset_index()\n",
    "    x=x.rename(columns={'count':'Frec. Abs.'})\n",
    "    y=pd.crosstab(index=columna,columns=\"count\", normalize='columns').reset_index()\n",
    "    y=y.rename(columns={'count':'Frec. Rel.'})\n",
    "    tabla=x.merge(y,how='left')\n",
    "    tabla.rename_axis(None, axis=1)\n",
    "    return tabla"
   ]
  },
  {
   "cell_type": "markdown",
   "metadata": {},
   "source": [
    "### Análisis univariado del dataset:\n",
    "\n",
    "Las variables seleccionadas son del tipo cualitativo, lo que significa que no tiene un valor numérico o una escala cuantitativa que permita hacer comparaciones directas o análisis estadísticos que identifiquen patrones de manera clara. Por tanto, al ser categórica, se presenta un análisis que muestre la distribución de cada categoría para identificar el tipo de captura de información.\n",
    "\n",
    "\n",
    "#### Variable seleccionada: 'TIPO_LECTURA'.\n",
    "\n",
    "- Importancia de la variable: Esta variable es clave dentro del conjunto de datos, ya que define el tipo de lectura utilizada para medir el consumo de energía con fines de liquidación. Además, permite determinar con precisión cuánta energía se registra de manera real, si el consumo es estimado y si se cuenta con un medidor para realizar la captura de datos."
   ]
  },
  {
   "cell_type": "code",
   "execution_count": 23,
   "metadata": {},
   "outputs": [
    {
     "data": {
      "text/html": [
       "<div>\n",
       "<style scoped>\n",
       "    .dataframe tbody tr th:only-of-type {\n",
       "        vertical-align: middle;\n",
       "    }\n",
       "\n",
       "    .dataframe tbody tr th {\n",
       "        vertical-align: top;\n",
       "    }\n",
       "\n",
       "    .dataframe thead th {\n",
       "        text-align: right;\n",
       "    }\n",
       "</style>\n",
       "<table border=\"1\" class=\"dataframe\">\n",
       "  <thead>\n",
       "    <tr style=\"text-align: right;\">\n",
       "      <th>col_0</th>\n",
       "      <th>TIPO_LECTURA</th>\n",
       "      <th>Frec. Abs.</th>\n",
       "      <th>Frec. Rel.</th>\n",
       "    </tr>\n",
       "  </thead>\n",
       "  <tbody>\n",
       "    <tr>\n",
       "      <th>2</th>\n",
       "      <td>Real</td>\n",
       "      <td>31391601</td>\n",
       "      <td>0.944549</td>\n",
       "    </tr>\n",
       "    <tr>\n",
       "      <th>0</th>\n",
       "      <td>Estimada</td>\n",
       "      <td>1436187</td>\n",
       "      <td>0.043214</td>\n",
       "    </tr>\n",
       "    <tr>\n",
       "      <th>1</th>\n",
       "      <td>No tiene medidor</td>\n",
       "      <td>406706</td>\n",
       "      <td>0.012237</td>\n",
       "    </tr>\n",
       "  </tbody>\n",
       "</table>\n",
       "</div>"
      ],
      "text/plain": [
       "col_0      TIPO_LECTURA  Frec. Abs.  Frec. Rel.\n",
       "2                  Real    31391601    0.944549\n",
       "0              Estimada     1436187    0.043214\n",
       "1      No tiene medidor      406706    0.012237"
      ]
     },
     "execution_count": 23,
     "metadata": {},
     "output_type": "execute_result"
    }
   ],
   "source": [
    "# Tipo lectura\n",
    "\n",
    "tabla_tipo_lectura = tabla_freq(df['TIPO_LECTURA']).sort_values(by='Frec. Abs.', ascending=False)\n",
    "tabla_tipo_lectura"
   ]
  },
  {
   "cell_type": "code",
   "execution_count": 51,
   "metadata": {},
   "outputs": [
    {
     "data": {
      "image/png": "[encoded data removed]",
      "text/plain": [
       "<Figure size 640x480 with 1 Axes>"
      ]
     },
     "metadata": {},
     "output_type": "display_data"
    }
   ],
   "source": [
    "\n",
    "tipo_lectura=sns.barplot(y=tabla_tipo_lectura['TIPO_LECTURA'],x=tabla_tipo_lectura[\"Frec. Rel.\"]*100)\n",
    "tipo_lectura.bar_label(tipo_lectura.containers[0], label_type='edge',fmt='%.1f%%') # visualizar porcentajes por barra\n",
    "tipo_lectura.xaxis.set_major_formatter(mtick.PercentFormatter(xmax=100)) # Visualizar eje y en mi escala porcentajes\n",
    "tipo_lectura.set(xlim=(0, 100))\n",
    "tipo_lectura.set_ylabel('Tipo de lectura')\n",
    "tipo_lectura.set_title('Distribución de tipo de lectura')\n",
    "plt.show() "
   ]
  },
  {
   "cell_type": "markdown",
   "metadata": {},
   "source": [
    "**Conclusión:** La confiabilidad del sistema de medición es alta, dado que más del 94% de las lecturas son reales, es decir, se están realizando directamente en el sitio de consumo. Sin embargo, la presencia de lecturas estimadas y clientes sin medidor, aunque baja, debe ser monitoreada para minimizar errores y asegurar una correcta facturación del consumo energético."
   ]
  },
  {
   "cell_type": "markdown",
   "metadata": {},
   "source": [
    "#### Variable: 'TIPO_MEDIDOR'.\n",
    "\n",
    "- Importancia de la variable: En el mercado de energía actualmente predominan los medidores electromecánicos (convencionales). Esto sugiere que esta variable podría aportar información relevante sobre posibles anomalías en la captura del consumo de energía, debido a las limitaciones tecnológicas y a posibles errores en la medición. Su análisis es clave para determinar qué tipo de medidor ofrece mayor confiabilidad en la facturación y detección de inconsistencias.\n"
   ]
  },
  {
   "cell_type": "code",
   "execution_count": 26,
   "metadata": {},
   "outputs": [
    {
     "data": {
      "text/html": [
       "<div>\n",
       "<style scoped>\n",
       "    .dataframe tbody tr th:only-of-type {\n",
       "        vertical-align: middle;\n",
       "    }\n",
       "\n",
       "    .dataframe tbody tr th {\n",
       "        vertical-align: top;\n",
       "    }\n",
       "\n",
       "    .dataframe thead th {\n",
       "        text-align: right;\n",
       "    }\n",
       "</style>\n",
       "<table border=\"1\" class=\"dataframe\">\n",
       "  <thead>\n",
       "    <tr style=\"text-align: right;\">\n",
       "      <th>col_0</th>\n",
       "      <th>TIPO_MEDIDOR</th>\n",
       "      <th>Frec. Abs.</th>\n",
       "      <th>Frec. Rel.</th>\n",
       "    </tr>\n",
       "  </thead>\n",
       "  <tbody>\n",
       "    <tr>\n",
       "      <th>0</th>\n",
       "      <td>Electromecánico</td>\n",
       "      <td>27854620</td>\n",
       "      <td>0.838124</td>\n",
       "    </tr>\n",
       "    <tr>\n",
       "      <th>3</th>\n",
       "      <td>I. Unidireccional</td>\n",
       "      <td>2681526</td>\n",
       "      <td>0.080685</td>\n",
       "    </tr>\n",
       "    <tr>\n",
       "      <th>1</th>\n",
       "      <td>Electrónico</td>\n",
       "      <td>2253119</td>\n",
       "      <td>0.067795</td>\n",
       "    </tr>\n",
       "    <tr>\n",
       "      <th>4</th>\n",
       "      <td>U. Sin Medidor</td>\n",
       "      <td>411457</td>\n",
       "      <td>0.012380</td>\n",
       "    </tr>\n",
       "    <tr>\n",
       "      <th>2</th>\n",
       "      <td>I. Bidireccional</td>\n",
       "      <td>33772</td>\n",
       "      <td>0.001016</td>\n",
       "    </tr>\n",
       "  </tbody>\n",
       "</table>\n",
       "</div>"
      ],
      "text/plain": [
       "col_0       TIPO_MEDIDOR  Frec. Abs.  Frec. Rel.\n",
       "0        Electromecánico    27854620    0.838124\n",
       "3      I. Unidireccional     2681526    0.080685\n",
       "1            Electrónico     2253119    0.067795\n",
       "4         U. Sin Medidor      411457    0.012380\n",
       "2       I. Bidireccional       33772    0.001016"
      ]
     },
     "execution_count": 26,
     "metadata": {},
     "output_type": "execute_result"
    }
   ],
   "source": [
    "# TIPO MEDIDOR\n",
    "tabla_tipo_medidor = tabla_freq(df['TIPO_MEDIDOR']).sort_values(by='Frec. Abs.', ascending=False)\n",
    "tabla_tipo_medidor\n"
   ]
  },
  {
   "cell_type": "code",
   "execution_count": 52,
   "metadata": {},
   "outputs": [
    {
     "data": {
      "image/png": "[encoded data removed]",
      "text/plain": [
       "<Figure size 640x480 with 1 Axes>"
      ]
     },
     "metadata": {},
     "output_type": "display_data"
    }
   ],
   "source": [
    "tipo_medidor=sns.barplot(y=tabla_tipo_medidor['TIPO_MEDIDOR'],x=tabla_tipo_medidor[\"Frec. Rel.\"]*100)\n",
    "tipo_medidor.bar_label(tipo_medidor.containers[0], label_type='edge',fmt='%.1f%%') # visualizar porcentajes por barra\n",
    "tipo_medidor.xaxis.set_major_formatter(mtick.PercentFormatter(xmax=100)) # Visualizar eje y en mi escala porcentajes\n",
    "tipo_medidor.set(xlim=(0, 100))\n",
    "tipo_medidor.set_ylabel('Tipo de medidor')\n",
    "tipo_medidor.set_title('Distribución de los tipos de medidor')\n",
    "plt.show() "
   ]
  },
  {
   "cell_type": "markdown",
   "metadata": {},
   "source": [
    "**Conclusión:** De acuerdo con la gráfica, más del 80% de las capturas de datos se realizan mediante medidores electromecánicos, lo que indica una fuerte dependencia de tecnología convencional. Esto puede representar limitaciones en términos de precisión. Además, al no permitir supervisión en tiempo real, estos medidores pueden retrasar la identificación de irregularidades, lo que aumenta el riesgo de pérdidas y fraudes. Además, La baja presencia de medidores electrónicos y bidireccionales sugiere oportunidades de modernización que podrían mejorar la eficiencia del monitoreo y la gestión del consumo energético."
   ]
  },
  {
   "cell_type": "markdown",
   "metadata": {},
   "source": [
    "#### Proximos pasos:\n",
    "\n",
    "Realizar un análisis bivariado para examinar cómo se distribuyen los consumos según el tipo de medidor y la lectura del consumo. Esto permitira identificar patrones de consumo en función de estas variables para detectar posibles anomalías. Además, se debe evaluar la relación entre el consumo y las características socioeconómicas para mejorar el monitoreo y la prevención de fraudes.\n"
   ]
  },
  {
   "cell_type": "code",
   "execution_count": null,
   "metadata": {},
   "outputs": [],
   "source": []
  }
 ],
 "metadata": {
  "kernelspec": {
   "display_name": "Python 3",
   "language": "python",
   "name": "python3"
  },
  "language_info": {
   "codemirror_mode": {
    "name": "ipython",
    "version": 3
   },
   "file_extension": ".py",
   "mimetype": "text/x-python",
   "name": "python",
   "nbconvert_exporter": "python",
   "pygments_lexer": "ipython3",
   "version": "3.13.0"
  }
 },
 "nbformat": 4,
 "nbformat_minor": 2
}
